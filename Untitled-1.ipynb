{
 "cells": [
  {
   "cell_type": "code",
   "execution_count": 6,
   "id": "aff49ba6",
   "metadata": {},
   "outputs": [],
   "source": [
    "from world_peace.pickles.pickle_rick import pickle_rick\n",
    "Thee1 = pickle_rick()"
   ]
  },
  {
   "cell_type": "code",
   "execution_count": 7,
   "id": "01f3edd8",
   "metadata": {},
   "outputs": [
    {
     "data": {
      "text/plain": [
       "'pickle_rick'"
      ]
     },
     "execution_count": 7,
     "metadata": {},
     "output_type": "execute_result"
    }
   ],
   "source": [
    "Thee1.name"
   ]
  },
  {
   "cell_type": "code",
   "execution_count": 11,
   "id": "1e39d15f",
   "metadata": {},
   "outputs": [
    {
     "name": "stdout",
     "output_type": "stream",
     "text": [
      "vaule\n"
     ]
    }
   ],
   "source": [
    "from world_peace.Ice_cream.Bluemoon import ice_cream\n",
    "ice_cream(\"red\")\n"
   ]
  }
 ],
 "metadata": {
  "kernelspec": {
   "display_name": "Python 3",
   "language": "python",
   "name": "python3"
  },
  "language_info": {
   "codemirror_mode": {
    "name": "ipython",
    "version": 3
   },
   "file_extension": ".py",
   "mimetype": "text/x-python",
   "name": "python",
   "nbconvert_exporter": "python",
   "pygments_lexer": "ipython3",
   "version": "3.12.1"
  }
 },
 "nbformat": 4,
 "nbformat_minor": 5
}
